{
 "cells": [
  {
   "cell_type": "code",
   "execution_count": null,
   "metadata": {},
   "outputs": [
    {
     "name": "stdout",
     "output_type": "stream",
     "text": [
      "Requirement already satisfied: pyarrow in /opt/conda/lib/python3.11/site-packages (11.0.0)\n",
      "Requirement already satisfied: numpy>=1.16.6 in /opt/conda/lib/python3.11/site-packages (from pyarrow) (1.24.3)\n",
      "\u001b[33mWARNING: Running pip as the 'root' user can result in broken permissions and conflicting behaviour with the system package manager. It is recommended to use a virtual environment instead: https://pip.pypa.io/warnings/venv\u001b[0m\u001b[33m\n",
      "\u001b[0mmerged data frames of the facility 03 in the wind farm e are equal\n",
      "merged data frames of the facility 06 in the wind farm e are equal\n",
      "merged data frames of the facility 07 in the wind farm e are equal\n",
      "merged data frames of the facility 10 in the wind farm e are equal\n",
      "merged data frames of the facility 11 in the wind farm e are equal\n",
      "merged data frames of the facility 12 in the wind farm e are equal\n",
      "merged data frames of the facility 15 in the wind farm e are equal\n",
      "merged data frames of the facility 16 in the wind farm e are equal\n",
      "merged data frames of the facility 17 in the wind farm e are equal\n",
      "merged data frames of the facility 18 in the wind farm e are equal\n",
      "merged data frames of the facility 19 in the wind farm e are equal\n",
      "merged data frames of the facility 20 in the wind farm e are equal\n",
      "merged data frames of the facility 21 in the wind farm e are equal\n",
      "merged data frames of the facility 22 in the wind farm e are equal\n",
      "merged data frames of the facility 23 in the wind farm e are equal\n",
      "merged data frames of the facility 24 in the wind farm e are equal\n",
      "merged data frames of the facility 25 in the wind farm e are equal\n",
      "merged data frames of the facility 26 in the wind farm e are equal\n",
      "merged data frames of the facility 27 in the wind farm e are equal\n",
      "merged data frames of the facility 28 in the wind farm e are equal\n",
      "merged data frames of the facility 29 in the wind farm e are equal\n",
      "merged data frames of the facility 30 in the wind farm e are equal\n",
      "merged data frames of the facility 31 in the wind farm e are equal\n",
      "merged data frames of the facility 32 in the wind farm e are equal\n",
      "merged data frames of the facility 33 in the wind farm e are equal\n",
      "merged data frames of the facility 34 in the wind farm e are equal\n",
      "merged data frames of the facility 35 in the wind farm e are equal\n",
      "merged data frames of the facility 36 in the wind farm e are equal\n",
      "merged data frames of the facility 37 in the wind farm e are equal\n"
     ]
    }
   ],
   "source": [
    "import os\n",
    "import pandas as pd\n",
    "import glob\n",
    "import pathlib\n",
    "from utility import wind_farms\n",
    "\n",
    "cwd=os.getcwd()\n",
    "parent_directory=os.path.dirname(cwd)\n",
    "\n",
    "for wind_farm in wind_farms:\n",
    "  for facility in wind_farms[wind_farm]:\n",
    "    feather_file=f'{parent_directory}/scaled_data/wind_farm_{wind_farm}/facility_{facility}.feather'\n",
    "    if pathlib.Path(feather_file).is_file():\n",
    "      data_frame_feather = pd.read_feather(feather_file)\n",
    "      facility_files = glob.glob(f'{parent_directory}/data/wind_farm_{wind_farm}/anlage_{facility}_*.csv')\n",
    "\n",
    "      data_frames = []\n",
    "      for file in facility_files:\n",
    "        data_frame = pd.read_csv(file)\n",
    "        data_frames.append(data_frame)\n",
    "\n",
    "      merged_data_frame = pd.concat(data_frames, ignore_index=True)\n",
    "\n",
    "      if merged_data_frame.equals(data_frame_feather):\n",
    "        print(f'merged data frames of the facility {facility} in the wind farm {wind_farm} are equal')\n",
    "      else:\n",
    "        print(f'merged data frames of the facility {facility} in the wind farm {wind_farm} are not equal')"
   ]
  },
  {
   "cell_type": "code",
   "execution_count": null,
   "metadata": {},
   "outputs": [],
   "source": []
  }
 ],
 "metadata": {
  "kernelspec": {
   "display_name": "Python 3 (ipykernel)",
   "language": "python",
   "name": "python3"
  },
  "language_info": {
   "codemirror_mode": {
    "name": "ipython",
    "version": 3
   },
   "file_extension": ".py",
   "mimetype": "text/x-python",
   "name": "python",
   "nbconvert_exporter": "python",
   "pygments_lexer": "ipython3",
   "version": "3.11.5"
  }
 },
 "nbformat": 4,
 "nbformat_minor": 2
}
