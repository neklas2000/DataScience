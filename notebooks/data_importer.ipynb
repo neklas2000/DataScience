{
 "cells": [
  {
   "cell_type": "code",
   "execution_count": 2,
   "metadata": {},
   "outputs": [],
   "source": [
    "import os\n",
    "import pandas as pd\n",
    "import glob\n",
    "from utility import wind_farms\n",
    "\n",
    "cwd=os.getcwd()\n",
    "parent_directory=os.path.dirname(cwd)\n",
    "\n",
    "for wind_farm in wind_farms:\n",
    "  for facility in wind_farms[wind_farm]:\n",
    "    facility_files = glob.glob(f'{parent_directory}/data/wind_farm_{wind_farm}/anlage_{facility}_*.csv')\n",
    "\n",
    "    data_frames = []\n",
    "    for file in facility_files:\n",
    "      data_frame = pd.read_csv(file, sep=';')\n",
    "      data_frames.append(data_frame)\n",
    "\n",
    "    if not len(data_frames) == 0:\n",
    "      merged_data_frame = pd.concat(data_frames, ignore_index=True)\n",
    "      target_directory=f'{parent_directory}/scaled_data/wind_farm_{wind_farm}'\n",
    "      os.makedirs(target_directory, exist_ok=True)\n",
    "      merged_data_frame.to_feather(f'{target_directory}/facility_{facility}.feather')\n"
   ]
  },
  {
   "cell_type": "code",
   "execution_count": null,
   "metadata": {},
   "outputs": [],
   "source": []
  },
  {
   "cell_type": "code",
   "execution_count": null,
   "metadata": {},
   "outputs": [],
   "source": []
  },
  {
   "cell_type": "code",
   "execution_count": null,
   "metadata": {},
   "outputs": [],
   "source": []
  }
 ],
 "metadata": {
  "kernelspec": {
   "display_name": "Python 3 (ipykernel)",
   "language": "python",
   "name": "python3"
  },
  "language_info": {
   "codemirror_mode": {
    "name": "ipython",
    "version": 3
   },
   "file_extension": ".py",
   "mimetype": "text/x-python",
   "name": "python",
   "nbconvert_exporter": "python",
   "pygments_lexer": "ipython3",
   "version": "3.11.5"
  }
 },
 "nbformat": 4,
 "nbformat_minor": 2
}
